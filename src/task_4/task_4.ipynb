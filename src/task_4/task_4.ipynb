{
  "cells": [
    {
      "cell_type": "markdown",
      "metadata": {
        "id": "qoA1nPMP-Zdr"
      },
      "source": [
        "# Задача 4. Ансамбли\n",
        "\n",
        "## Задача\n",
        "\n",
        "- Найти данные размера хотя бы 10000, на которых можно решить задачу классификации или регрессии.\n",
        "- Выполнить разведочный анализ (**EDA**). При необходимости выполнить полезные преобразования данных.\n",
        "- Самостоятельно реализуйте алгоритмы **Bagging** и **AdaBoost**, которые позволят обучить ансамбли каких-то простых моделей, например деревьев принятия решений.\n",
        "- Обучите ансамбли для каких-то простых моделей, используя свои две реализации, а также реализации из **sklearn** (**Bagging**, **Random Forest**, **AdaBoost**, **Gradient Tree Boosting**, **Histogram-Based Gradient Boosting**).\n",
        "- При обучении использовать **подбор гиперпараметров**, **кросс-валидацию**.\n",
        "- Сравнить качество моделей: замерить скорость обучения, вычислить различные метрики качества, построить матрицы ошибок.\n",
        "- * (**+2 балла**) Также добавить в сравнение модели из библиотек **XGBoost**, **LightGBM** и **CatBoost**.\n",
        "- * (**+3 балла**) Для подбора гиперпараметров использовать фреймворк **Optuna**."
      ]
    },
    {
      "cell_type": "code",
      "execution_count": 2,
      "metadata": {
        "colab": {
          "base_uri": "https://localhost:8080/",
          "height": 36
        },
        "id": "qg2eNH-4-Zdv",
        "outputId": "d2c5a901-9b45-4054-9b99-4a4a1db0bea9"
      },
      "outputs": [
        {
          "data": {
            "text/plain": [
              "'%.4f'"
            ]
          },
          "execution_count": 2,
          "metadata": {},
          "output_type": "execute_result"
        }
      ],
      "source": [
        "import matplotlib.pyplot as plt\n",
        "import pandas as pd\n",
        "import seaborn as sns\n",
        "\n",
        "%precision %.4f"
      ]
    },
    {
      "cell_type": "markdown",
      "metadata": {
        "id": "jDb9Ukw--Zdy"
      },
      "source": [
        "## Датасет\n",
        "\n",
        "В работе используется датасет [Gas Turbine CO and NOx Emission Data Set](https://archive.ics.uci.edu/ml/datasets/Gas+Turbine+CO+and+NOx+Emission+Data+Set).\n",
        "\n",
        "Набор данных содержит 36733 экземпляра 11 измерений датчиков, агрегированных в течение одного часа (посредством среднего или суммы) от газовой турбины, расположенной в северо-западном регионе Турции, с целью изучения выбросов дымовых газов, а именно CO и NOx (NO + NO2). Данные поступают с электростанции для прогнозирования почасовой чистой выработки энергии. Данные содержат параметры газовой турбины (такие как температура на входе в турбину и давление нагнетания компрессора) в дополнение к переменным окружающей среды. Данные отсортированы в хронологическом порядке. Набор данных можно хорошо использовать для прогнозирования выхода энергии турбины (TEY) с использованием переменных окружающей среды в качестве признаков.\n",
        "\n",
        "Нецелевые аттрибуты:\n",
        "- Variable (Abbr.) Unit Min Max Mean\n",
        "- Ambient temperature (AT) C\n",
        "- Ambient pressure (AP) mbar\n",
        "- Ambient humidity (AH) (%)\n",
        "- Air filter difference pressure (AFDP) mbar\n",
        "- Gas turbine exhaust pressure (GTEP) mbar\n",
        "- Turbine inlet temperature (TIT) C\n",
        "- Turbine after temperature (TAT) C\n",
        "- Compressor discharge pressure (CDP) mbar\n",
        "- Carbon monoxide (CO) mg/m3\n",
        "- Nitrogen oxides (NOx) mg/m3\n",
        "\n",
        "Целевой аттрибут:\n",
        "- Turbine energy yield (TEY) MWH\n"
      ]
    },
    {
      "cell_type": "code",
      "execution_count": 3,
      "metadata": {
        "colab": {
          "base_uri": "https://localhost:8080/",
          "height": 206
        },
        "id": "PWLbf0co-Zdz",
        "outputId": "de6210ff-42c4-443f-e2c8-a1d230086d06"
      },
      "outputs": [
        {
          "data": {
            "text/html": [
              "\n",
              "  <div id=\"df-90b74d16-4b52-4227-9213-8e887a009121\">\n",
              "    <div class=\"colab-df-container\">\n",
              "      <div>\n",
              "<style scoped>\n",
              "    .dataframe tbody tr th:only-of-type {\n",
              "        vertical-align: middle;\n",
              "    }\n",
              "\n",
              "    .dataframe tbody tr th {\n",
              "        vertical-align: top;\n",
              "    }\n",
              "\n",
              "    .dataframe thead th {\n",
              "        text-align: right;\n",
              "    }\n",
              "</style>\n",
              "<table border=\"1\" class=\"dataframe\">\n",
              "  <thead>\n",
              "    <tr style=\"text-align: right;\">\n",
              "      <th></th>\n",
              "      <th>AT</th>\n",
              "      <th>AP</th>\n",
              "      <th>AH</th>\n",
              "      <th>AFDP</th>\n",
              "      <th>GTEP</th>\n",
              "      <th>TIT</th>\n",
              "      <th>TAT</th>\n",
              "      <th>TEY</th>\n",
              "      <th>CDP</th>\n",
              "      <th>CO</th>\n",
              "      <th>NOX</th>\n",
              "    </tr>\n",
              "  </thead>\n",
              "  <tbody>\n",
              "    <tr>\n",
              "      <th>0</th>\n",
              "      <td>4.5878</td>\n",
              "      <td>1018.7</td>\n",
              "      <td>83.675</td>\n",
              "      <td>3.5758</td>\n",
              "      <td>23.979</td>\n",
              "      <td>1086.2</td>\n",
              "      <td>549.83</td>\n",
              "      <td>134.67</td>\n",
              "      <td>11.898</td>\n",
              "      <td>0.32663</td>\n",
              "      <td>81.952</td>\n",
              "    </tr>\n",
              "    <tr>\n",
              "      <th>1</th>\n",
              "      <td>4.2932</td>\n",
              "      <td>1018.3</td>\n",
              "      <td>84.235</td>\n",
              "      <td>3.5709</td>\n",
              "      <td>23.951</td>\n",
              "      <td>1086.1</td>\n",
              "      <td>550.05</td>\n",
              "      <td>134.67</td>\n",
              "      <td>11.892</td>\n",
              "      <td>0.44784</td>\n",
              "      <td>82.377</td>\n",
              "    </tr>\n",
              "    <tr>\n",
              "      <th>2</th>\n",
              "      <td>3.9045</td>\n",
              "      <td>1018.4</td>\n",
              "      <td>84.858</td>\n",
              "      <td>3.5828</td>\n",
              "      <td>23.990</td>\n",
              "      <td>1086.5</td>\n",
              "      <td>550.19</td>\n",
              "      <td>135.10</td>\n",
              "      <td>12.042</td>\n",
              "      <td>0.45144</td>\n",
              "      <td>83.776</td>\n",
              "    </tr>\n",
              "    <tr>\n",
              "      <th>3</th>\n",
              "      <td>3.7436</td>\n",
              "      <td>1018.3</td>\n",
              "      <td>85.434</td>\n",
              "      <td>3.5808</td>\n",
              "      <td>23.911</td>\n",
              "      <td>1086.5</td>\n",
              "      <td>550.17</td>\n",
              "      <td>135.03</td>\n",
              "      <td>11.990</td>\n",
              "      <td>0.23107</td>\n",
              "      <td>82.505</td>\n",
              "    </tr>\n",
              "    <tr>\n",
              "      <th>4</th>\n",
              "      <td>3.7516</td>\n",
              "      <td>1017.8</td>\n",
              "      <td>85.182</td>\n",
              "      <td>3.5781</td>\n",
              "      <td>23.917</td>\n",
              "      <td>1085.9</td>\n",
              "      <td>550.00</td>\n",
              "      <td>134.67</td>\n",
              "      <td>11.910</td>\n",
              "      <td>0.26747</td>\n",
              "      <td>82.028</td>\n",
              "    </tr>\n",
              "  </tbody>\n",
              "</table>\n",
              "</div>\n",
              "      <button class=\"colab-df-convert\" onclick=\"convertToInteractive('df-90b74d16-4b52-4227-9213-8e887a009121')\"\n",
              "              title=\"Convert this dataframe to an interactive table.\"\n",
              "              style=\"display:none;\">\n",
              "        \n",
              "  <svg xmlns=\"http://www.w3.org/2000/svg\" height=\"24px\"viewBox=\"0 0 24 24\"\n",
              "       width=\"24px\">\n",
              "    <path d=\"M0 0h24v24H0V0z\" fill=\"none\"/>\n",
              "    <path d=\"M18.56 5.44l.94 2.06.94-2.06 2.06-.94-2.06-.94-.94-2.06-.94 2.06-2.06.94zm-11 1L8.5 8.5l.94-2.06 2.06-.94-2.06-.94L8.5 2.5l-.94 2.06-2.06.94zm10 10l.94 2.06.94-2.06 2.06-.94-2.06-.94-.94-2.06-.94 2.06-2.06.94z\"/><path d=\"M17.41 7.96l-1.37-1.37c-.4-.4-.92-.59-1.43-.59-.52 0-1.04.2-1.43.59L10.3 9.45l-7.72 7.72c-.78.78-.78 2.05 0 2.83L4 21.41c.39.39.9.59 1.41.59.51 0 1.02-.2 1.41-.59l7.78-7.78 2.81-2.81c.8-.78.8-2.07 0-2.86zM5.41 20L4 18.59l7.72-7.72 1.47 1.35L5.41 20z\"/>\n",
              "  </svg>\n",
              "      </button>\n",
              "      \n",
              "  <style>\n",
              "    .colab-df-container {\n",
              "      display:flex;\n",
              "      flex-wrap:wrap;\n",
              "      gap: 12px;\n",
              "    }\n",
              "\n",
              "    .colab-df-convert {\n",
              "      background-color: #E8F0FE;\n",
              "      border: none;\n",
              "      border-radius: 50%;\n",
              "      cursor: pointer;\n",
              "      display: none;\n",
              "      fill: #1967D2;\n",
              "      height: 32px;\n",
              "      padding: 0 0 0 0;\n",
              "      width: 32px;\n",
              "    }\n",
              "\n",
              "    .colab-df-convert:hover {\n",
              "      background-color: #E2EBFA;\n",
              "      box-shadow: 0px 1px 2px rgba(60, 64, 67, 0.3), 0px 1px 3px 1px rgba(60, 64, 67, 0.15);\n",
              "      fill: #174EA6;\n",
              "    }\n",
              "\n",
              "    [theme=dark] .colab-df-convert {\n",
              "      background-color: #3B4455;\n",
              "      fill: #D2E3FC;\n",
              "    }\n",
              "\n",
              "    [theme=dark] .colab-df-convert:hover {\n",
              "      background-color: #434B5C;\n",
              "      box-shadow: 0px 1px 3px 1px rgba(0, 0, 0, 0.15);\n",
              "      filter: drop-shadow(0px 1px 2px rgba(0, 0, 0, 0.3));\n",
              "      fill: #FFFFFF;\n",
              "    }\n",
              "  </style>\n",
              "\n",
              "      <script>\n",
              "        const buttonEl =\n",
              "          document.querySelector('#df-90b74d16-4b52-4227-9213-8e887a009121 button.colab-df-convert');\n",
              "        buttonEl.style.display =\n",
              "          google.colab.kernel.accessAllowed ? 'block' : 'none';\n",
              "\n",
              "        async function convertToInteractive(key) {\n",
              "          const element = document.querySelector('#df-90b74d16-4b52-4227-9213-8e887a009121');\n",
              "          const dataTable =\n",
              "            await google.colab.kernel.invokeFunction('convertToInteractive',\n",
              "                                                     [key], {});\n",
              "          if (!dataTable) return;\n",
              "\n",
              "          const docLinkHtml = 'Like what you see? Visit the ' +\n",
              "            '<a target=\"_blank\" href=https://colab.research.google.com/notebooks/data_table.ipynb>data table notebook</a>'\n",
              "            + ' to learn more about interactive tables.';\n",
              "          element.innerHTML = '';\n",
              "          dataTable['output_type'] = 'display_data';\n",
              "          await google.colab.output.renderOutput(dataTable, element);\n",
              "          const docLink = document.createElement('div');\n",
              "          docLink.innerHTML = docLinkHtml;\n",
              "          element.appendChild(docLink);\n",
              "        }\n",
              "      </script>\n",
              "    </div>\n",
              "  </div>\n",
              "  "
            ],
            "text/plain": [
              "       AT      AP      AH    AFDP    GTEP     TIT     TAT     TEY     CDP  \\\n",
              "0  4.5878  1018.7  83.675  3.5758  23.979  1086.2  549.83  134.67  11.898   \n",
              "1  4.2932  1018.3  84.235  3.5709  23.951  1086.1  550.05  134.67  11.892   \n",
              "2  3.9045  1018.4  84.858  3.5828  23.990  1086.5  550.19  135.10  12.042   \n",
              "3  3.7436  1018.3  85.434  3.5808  23.911  1086.5  550.17  135.03  11.990   \n",
              "4  3.7516  1017.8  85.182  3.5781  23.917  1085.9  550.00  134.67  11.910   \n",
              "\n",
              "        CO     NOX  \n",
              "0  0.32663  81.952  \n",
              "1  0.44784  82.377  \n",
              "2  0.45144  83.776  \n",
              "3  0.23107  82.505  \n",
              "4  0.26747  82.028  "
            ]
          },
          "execution_count": 3,
          "metadata": {},
          "output_type": "execute_result"
        }
      ],
      "source": [
        "gt_2011 = pd.read_csv('../../data/Gas_Turbine_CO_and_NOx_Emission/gt_2011.csv')\n",
        "gt_2012 = pd.read_csv('../../data/Gas_Turbine_CO_and_NOx_Emission/gt_2012.csv')\n",
        "gt_2013 = pd.read_csv('../../data/Gas_Turbine_CO_and_NOx_Emission/gt_2013.csv')\n",
        "gt_2014 = pd.read_csv('../../data/Gas_Turbine_CO_and_NOx_Emission/gt_2014.csv')\n",
        "gt_2015 = pd.read_csv('../../data/Gas_Turbine_CO_and_NOx_Emission/gt_2015.csv')\n",
        "\n",
        "train_df = pd.concat([gt_2011, gt_2012, gt_2013])\n",
        "\n",
        "test_df = pd.concat([gt_2014, gt_2015])\n",
        "\n",
        "df = pd.concat([train_df, test_df])\n",
        "\n",
        "df.head()"
      ]
    },
    {
      "cell_type": "code",
      "execution_count": 4,
      "metadata": {
        "colab": {
          "base_uri": "https://localhost:8080/",
          "height": 300
        },
        "id": "vbTIyTFd-Zd0",
        "outputId": "bf1846db-93c1-448e-81b6-08a861244dca"
      },
      "outputs": [
        {
          "data": {
            "text/html": [
              "\n",
              "  <div id=\"df-6e054bb5-3c3f-434d-8ed8-c21134fc27d2\">\n",
              "    <div class=\"colab-df-container\">\n",
              "      <div>\n",
              "<style scoped>\n",
              "    .dataframe tbody tr th:only-of-type {\n",
              "        vertical-align: middle;\n",
              "    }\n",
              "\n",
              "    .dataframe tbody tr th {\n",
              "        vertical-align: top;\n",
              "    }\n",
              "\n",
              "    .dataframe thead th {\n",
              "        text-align: right;\n",
              "    }\n",
              "</style>\n",
              "<table border=\"1\" class=\"dataframe\">\n",
              "  <thead>\n",
              "    <tr style=\"text-align: right;\">\n",
              "      <th></th>\n",
              "      <th>AT</th>\n",
              "      <th>AP</th>\n",
              "      <th>AH</th>\n",
              "      <th>AFDP</th>\n",
              "      <th>GTEP</th>\n",
              "      <th>TIT</th>\n",
              "      <th>TAT</th>\n",
              "      <th>TEY</th>\n",
              "      <th>CDP</th>\n",
              "      <th>CO</th>\n",
              "      <th>NOX</th>\n",
              "    </tr>\n",
              "  </thead>\n",
              "  <tbody>\n",
              "    <tr>\n",
              "      <th>count</th>\n",
              "      <td>36733.000000</td>\n",
              "      <td>36733.000000</td>\n",
              "      <td>36733.000000</td>\n",
              "      <td>36733.000000</td>\n",
              "      <td>36733.000000</td>\n",
              "      <td>36733.000000</td>\n",
              "      <td>36733.000000</td>\n",
              "      <td>36733.000000</td>\n",
              "      <td>36733.000000</td>\n",
              "      <td>36733.000000</td>\n",
              "      <td>36733.000000</td>\n",
              "    </tr>\n",
              "    <tr>\n",
              "      <th>mean</th>\n",
              "      <td>17.712726</td>\n",
              "      <td>1013.070165</td>\n",
              "      <td>77.867015</td>\n",
              "      <td>3.925518</td>\n",
              "      <td>25.563801</td>\n",
              "      <td>1081.428084</td>\n",
              "      <td>546.158517</td>\n",
              "      <td>133.506404</td>\n",
              "      <td>12.060525</td>\n",
              "      <td>2.372468</td>\n",
              "      <td>65.293067</td>\n",
              "    </tr>\n",
              "    <tr>\n",
              "      <th>std</th>\n",
              "      <td>7.447451</td>\n",
              "      <td>6.463346</td>\n",
              "      <td>14.461355</td>\n",
              "      <td>0.773936</td>\n",
              "      <td>4.195957</td>\n",
              "      <td>17.536373</td>\n",
              "      <td>6.842360</td>\n",
              "      <td>15.618634</td>\n",
              "      <td>1.088795</td>\n",
              "      <td>2.262672</td>\n",
              "      <td>11.678357</td>\n",
              "    </tr>\n",
              "    <tr>\n",
              "      <th>min</th>\n",
              "      <td>-6.234800</td>\n",
              "      <td>985.850000</td>\n",
              "      <td>24.085000</td>\n",
              "      <td>2.087400</td>\n",
              "      <td>17.698000</td>\n",
              "      <td>1000.800000</td>\n",
              "      <td>511.040000</td>\n",
              "      <td>100.020000</td>\n",
              "      <td>9.851800</td>\n",
              "      <td>0.000388</td>\n",
              "      <td>25.905000</td>\n",
              "    </tr>\n",
              "    <tr>\n",
              "      <th>25%</th>\n",
              "      <td>11.781000</td>\n",
              "      <td>1008.800000</td>\n",
              "      <td>68.188000</td>\n",
              "      <td>3.355600</td>\n",
              "      <td>23.129000</td>\n",
              "      <td>1071.800000</td>\n",
              "      <td>544.720000</td>\n",
              "      <td>124.450000</td>\n",
              "      <td>11.435000</td>\n",
              "      <td>1.182400</td>\n",
              "      <td>57.162000</td>\n",
              "    </tr>\n",
              "    <tr>\n",
              "      <th>50%</th>\n",
              "      <td>17.801000</td>\n",
              "      <td>1012.600000</td>\n",
              "      <td>80.470000</td>\n",
              "      <td>3.937700</td>\n",
              "      <td>25.104000</td>\n",
              "      <td>1085.900000</td>\n",
              "      <td>549.880000</td>\n",
              "      <td>133.730000</td>\n",
              "      <td>11.965000</td>\n",
              "      <td>1.713500</td>\n",
              "      <td>63.849000</td>\n",
              "    </tr>\n",
              "    <tr>\n",
              "      <th>75%</th>\n",
              "      <td>23.665000</td>\n",
              "      <td>1017.000000</td>\n",
              "      <td>89.376000</td>\n",
              "      <td>4.376900</td>\n",
              "      <td>29.061000</td>\n",
              "      <td>1097.000000</td>\n",
              "      <td>550.040000</td>\n",
              "      <td>144.080000</td>\n",
              "      <td>12.855000</td>\n",
              "      <td>2.842900</td>\n",
              "      <td>71.548000</td>\n",
              "    </tr>\n",
              "    <tr>\n",
              "      <th>max</th>\n",
              "      <td>37.103000</td>\n",
              "      <td>1036.600000</td>\n",
              "      <td>100.200000</td>\n",
              "      <td>7.610600</td>\n",
              "      <td>40.716000</td>\n",
              "      <td>1100.900000</td>\n",
              "      <td>550.610000</td>\n",
              "      <td>179.500000</td>\n",
              "      <td>15.159000</td>\n",
              "      <td>44.103000</td>\n",
              "      <td>119.910000</td>\n",
              "    </tr>\n",
              "  </tbody>\n",
              "</table>\n",
              "</div>\n",
              "      <button class=\"colab-df-convert\" onclick=\"convertToInteractive('df-6e054bb5-3c3f-434d-8ed8-c21134fc27d2')\"\n",
              "              title=\"Convert this dataframe to an interactive table.\"\n",
              "              style=\"display:none;\">\n",
              "        \n",
              "  <svg xmlns=\"http://www.w3.org/2000/svg\" height=\"24px\"viewBox=\"0 0 24 24\"\n",
              "       width=\"24px\">\n",
              "    <path d=\"M0 0h24v24H0V0z\" fill=\"none\"/>\n",
              "    <path d=\"M18.56 5.44l.94 2.06.94-2.06 2.06-.94-2.06-.94-.94-2.06-.94 2.06-2.06.94zm-11 1L8.5 8.5l.94-2.06 2.06-.94-2.06-.94L8.5 2.5l-.94 2.06-2.06.94zm10 10l.94 2.06.94-2.06 2.06-.94-2.06-.94-.94-2.06-.94 2.06-2.06.94z\"/><path d=\"M17.41 7.96l-1.37-1.37c-.4-.4-.92-.59-1.43-.59-.52 0-1.04.2-1.43.59L10.3 9.45l-7.72 7.72c-.78.78-.78 2.05 0 2.83L4 21.41c.39.39.9.59 1.41.59.51 0 1.02-.2 1.41-.59l7.78-7.78 2.81-2.81c.8-.78.8-2.07 0-2.86zM5.41 20L4 18.59l7.72-7.72 1.47 1.35L5.41 20z\"/>\n",
              "  </svg>\n",
              "      </button>\n",
              "      \n",
              "  <style>\n",
              "    .colab-df-container {\n",
              "      display:flex;\n",
              "      flex-wrap:wrap;\n",
              "      gap: 12px;\n",
              "    }\n",
              "\n",
              "    .colab-df-convert {\n",
              "      background-color: #E8F0FE;\n",
              "      border: none;\n",
              "      border-radius: 50%;\n",
              "      cursor: pointer;\n",
              "      display: none;\n",
              "      fill: #1967D2;\n",
              "      height: 32px;\n",
              "      padding: 0 0 0 0;\n",
              "      width: 32px;\n",
              "    }\n",
              "\n",
              "    .colab-df-convert:hover {\n",
              "      background-color: #E2EBFA;\n",
              "      box-shadow: 0px 1px 2px rgba(60, 64, 67, 0.3), 0px 1px 3px 1px rgba(60, 64, 67, 0.15);\n",
              "      fill: #174EA6;\n",
              "    }\n",
              "\n",
              "    [theme=dark] .colab-df-convert {\n",
              "      background-color: #3B4455;\n",
              "      fill: #D2E3FC;\n",
              "    }\n",
              "\n",
              "    [theme=dark] .colab-df-convert:hover {\n",
              "      background-color: #434B5C;\n",
              "      box-shadow: 0px 1px 3px 1px rgba(0, 0, 0, 0.15);\n",
              "      filter: drop-shadow(0px 1px 2px rgba(0, 0, 0, 0.3));\n",
              "      fill: #FFFFFF;\n",
              "    }\n",
              "  </style>\n",
              "\n",
              "      <script>\n",
              "        const buttonEl =\n",
              "          document.querySelector('#df-6e054bb5-3c3f-434d-8ed8-c21134fc27d2 button.colab-df-convert');\n",
              "        buttonEl.style.display =\n",
              "          google.colab.kernel.accessAllowed ? 'block' : 'none';\n",
              "\n",
              "        async function convertToInteractive(key) {\n",
              "          const element = document.querySelector('#df-6e054bb5-3c3f-434d-8ed8-c21134fc27d2');\n",
              "          const dataTable =\n",
              "            await google.colab.kernel.invokeFunction('convertToInteractive',\n",
              "                                                     [key], {});\n",
              "          if (!dataTable) return;\n",
              "\n",
              "          const docLinkHtml = 'Like what you see? Visit the ' +\n",
              "            '<a target=\"_blank\" href=https://colab.research.google.com/notebooks/data_table.ipynb>data table notebook</a>'\n",
              "            + ' to learn more about interactive tables.';\n",
              "          element.innerHTML = '';\n",
              "          dataTable['output_type'] = 'display_data';\n",
              "          await google.colab.output.renderOutput(dataTable, element);\n",
              "          const docLink = document.createElement('div');\n",
              "          docLink.innerHTML = docLinkHtml;\n",
              "          element.appendChild(docLink);\n",
              "        }\n",
              "      </script>\n",
              "    </div>\n",
              "  </div>\n",
              "  "
            ],
            "text/plain": [
              "                 AT            AP            AH          AFDP          GTEP  \\\n",
              "count  36733.000000  36733.000000  36733.000000  36733.000000  36733.000000   \n",
              "mean      17.712726   1013.070165     77.867015      3.925518     25.563801   \n",
              "std        7.447451      6.463346     14.461355      0.773936      4.195957   \n",
              "min       -6.234800    985.850000     24.085000      2.087400     17.698000   \n",
              "25%       11.781000   1008.800000     68.188000      3.355600     23.129000   \n",
              "50%       17.801000   1012.600000     80.470000      3.937700     25.104000   \n",
              "75%       23.665000   1017.000000     89.376000      4.376900     29.061000   \n",
              "max       37.103000   1036.600000    100.200000      7.610600     40.716000   \n",
              "\n",
              "                TIT           TAT           TEY           CDP            CO  \\\n",
              "count  36733.000000  36733.000000  36733.000000  36733.000000  36733.000000   \n",
              "mean    1081.428084    546.158517    133.506404     12.060525      2.372468   \n",
              "std       17.536373      6.842360     15.618634      1.088795      2.262672   \n",
              "min     1000.800000    511.040000    100.020000      9.851800      0.000388   \n",
              "25%     1071.800000    544.720000    124.450000     11.435000      1.182400   \n",
              "50%     1085.900000    549.880000    133.730000     11.965000      1.713500   \n",
              "75%     1097.000000    550.040000    144.080000     12.855000      2.842900   \n",
              "max     1100.900000    550.610000    179.500000     15.159000     44.103000   \n",
              "\n",
              "                NOX  \n",
              "count  36733.000000  \n",
              "mean      65.293067  \n",
              "std       11.678357  \n",
              "min       25.905000  \n",
              "25%       57.162000  \n",
              "50%       63.849000  \n",
              "75%       71.548000  \n",
              "max      119.910000  "
            ]
          },
          "execution_count": 4,
          "metadata": {},
          "output_type": "execute_result"
        }
      ],
      "source": [
        "df.describe()"
      ]
    },
    {
      "cell_type": "code",
      "execution_count": 5,
      "metadata": {
        "colab": {
          "base_uri": "https://localhost:8080/"
        },
        "id": "SLLT8YZ0-Zd0",
        "outputId": "a6896cef-57a7-4536-d695-69b8fe7b268a"
      },
      "outputs": [
        {
          "data": {
            "text/plain": [
              "AT      0\n",
              "AP      0\n",
              "AH      0\n",
              "AFDP    0\n",
              "GTEP    0\n",
              "TIT     0\n",
              "TAT     0\n",
              "TEY     0\n",
              "CDP     0\n",
              "CO      0\n",
              "NOX     0\n",
              "dtype: int64"
            ]
          },
          "execution_count": 5,
          "metadata": {},
          "output_type": "execute_result"
        }
      ],
      "source": [
        "df.isnull().sum()"
      ]
    },
    {
      "cell_type": "markdown",
      "metadata": {
        "id": "pvtJbjAe-Zd1"
      },
      "source": [
        "В данных нет пропущенных значений."
      ]
    },
    {
      "cell_type": "markdown",
      "metadata": {
        "id": "dIZaeF7B-Zd1"
      },
      "source": [
        "## Разведочный анализ (EDA)\n",
        "\n",
        "### Распределение данных\n",
        "\n",
        "Рассмотрим распределения всех аттрибутов."
      ]
    },
    {
      "cell_type": "code",
      "execution_count": 6,
      "metadata": {
        "colab": {
          "base_uri": "https://localhost:8080/",
          "height": 297
        },
        "id": "CPqo9efM-Zd2",
        "outputId": "07d97f1b-b453-4a0d-88f2-a54684bac148"
      },
      "outputs": [
        {
          "data": {
            "image/png": "[encoded data removed]",
            "text/plain": [
              "<Figure size 432x288 with 12 Axes>"
            ]
          },
          "metadata": {
            "needs_background": "light"
          },
          "output_type": "display_data"
        }
      ],
      "source": [
        "df.hist(bins=50, log=True)\n",
        "plt.tight_layout()"
      ]
    },
    {
      "cell_type": "markdown",
      "metadata": {
        "id": "bzmH6E4n-Zd2"
      },
      "source": [
        "Можно заметить достаточно большой разброс в значениях большинства аттрибутов.\n",
        "Значения выглядят плавными."
      ]
    },
    {
      "cell_type": "markdown",
      "metadata": {
        "id": "LqVtb-Ry-Zd2"
      },
      "source": [
        "### Корреляция аттрибутов"
      ]
    },
    {
      "cell_type": "code",
      "execution_count": 7,
      "metadata": {
        "colab": {
          "base_uri": "https://localhost:8080/",
          "height": 340
        },
        "id": "5fwwAktM-Zd3",
        "outputId": "5c6bebf3-a081-4c7c-a2b1-62f41ff55d72"
      },
      "outputs": [
        {
          "data": {
            "image/png": "[encoded data removed]",
            "text/plain": [
              "<Figure size 720x360 with 2 Axes>"
            ]
          },
          "metadata": {
            "needs_background": "light"
          },
          "output_type": "display_data"
        }
      ],
      "source": [
        "sns.heatmap(df.corr(), annot=True, cmap='RdYlGn')\n",
        "fig = plt.gcf()\n",
        "fig.set_size_inches(10, 5)\n",
        "plt.show()"
      ]
    },
    {
      "cell_type": "markdown",
      "metadata": {
        "id": "6zVzVZr7-Zd3"
      },
      "source": [
        "Как можно заметить, в данных есть много линейных зависимостей.\n",
        "\n",
        "Искомый параметр TEY - выработка энергии турбиной линейно зависим от CDP - давления нагнетания компрессора, GTEP - давления выхлопа, TIT - температуры на входе в турбину.\n",
        "\n",
        "Для того что бы не потерять некоторые возможные интересные зависимости было решено не избавляться от данных линейно-зависимых параметров, однако если бы стояла задача об ускорении работы данных вычислений - это можно было бы сделать."
      ]
    },
    {
      "cell_type": "markdown",
      "metadata": {
        "id": "82B-SySG-Zd3"
      },
      "source": [
        "## Собственная реализация Bagging/AdaBoost"
      ]
    },
    {
      "cell_type": "code",
      "execution_count": 7,
      "metadata": {
        "id": "r0FaeBWj-Zd4"
      },
      "outputs": [],
      "source": []
    },
    {
      "cell_type": "code",
      "execution_count": 8,
      "metadata": {
        "id": "P-UEvk_T-Zd4"
      },
      "outputs": [],
      "source": [
        "from sklearn.base import BaseEstimator, RegressorMixin, clone\n",
        "from sklearn.utils.validation import check_scalar, check_random_state, check_X_y, check_is_fitted, check_array\n",
        "from sklearn.tree import DecisionTreeRegressor\n",
        "from sklearn.utils.estimator_checks import check_estimator\n",
        "import numpy as np\n",
        "\n",
        "#from sklearn.utils.validation import check_X_y, , check_random_state, check_is_fitted, check_array\n"
      ]
    },
    {
      "cell_type": "markdown",
      "metadata": {
        "id": "QJlGytN8-Zd4"
      },
      "source": [
        "### Bagging"
      ]
    },
    {
      "cell_type": "code",
      "execution_count": 9,
      "metadata": {
        "id": "ajyYqIR6-Zd4"
      },
      "outputs": [],
      "source": [
        "def _set_random_states(estimator, random_state=None):\n",
        "    to_set = {}\n",
        "    for key in sorted(estimator.get_params(deep=True)):\n",
        "        if key == \"random_state\" or key.endswith(\"__random_state\"):\n",
        "            to_set[key] = random_state.randint(np.iinfo(np.int32).max)\n",
        "\n",
        "    if to_set:\n",
        "        estimator.set_params(**to_set)"
      ]
    },
    {
      "cell_type": "code",
      "execution_count": 10,
      "metadata": {
        "id": "YqlLV4KH-Zd5"
      },
      "outputs": [],
      "source": [
        "class MyBaggingRegressor(BaseEstimator, RegressorMixin):\n",
        "    def __init__(self, estimator=None, n_estimators=10, random_state=None):\n",
        "        self.estimator = estimator\n",
        "        self.n_estimators = n_estimators\n",
        "        self.random_state = random_state\n",
        "\n",
        "    \n",
        "    def fit(self, X, y):\n",
        "        X, y = check_X_y(X, y)\n",
        "        self.n_features_in_ = X.shape[1]\n",
        "\n",
        "        self.n_estimators = check_scalar(self.n_estimators, \"n_estimators\", int, min_val=1)\n",
        "        self.random_state_ = check_random_state(self.random_state)\n",
        "\n",
        "        self.estimator_ = self.estimator if self.estimator else DecisionTreeRegressor()\n",
        "        self.estimators_ = []\n",
        "\n",
        "        for _ in range(self.n_estimators):\n",
        "            est = clone(self.estimator_)\n",
        "            _set_random_states(est, self.random_state_)\n",
        "            ind = self.random_state_.choice(len(y), size=len(y))\n",
        "            X_sample, y_sample = X[ind], y[ind]\n",
        "            est.fit(X_sample, y_sample)\n",
        "            self.estimators_.append(est)\n",
        "        \n",
        "        return self\n",
        "        \n",
        "\n",
        "    def predict(self, X):\n",
        "        check_is_fitted(self)\n",
        "        predictions = [estimator.predict(X) for estimator in self.estimators_]\n",
        "        return np.mean(predictions, axis=0)\n",
        "\n",
        "check_estimator(MyBaggingRegressor())"
      ]
    },
    {
      "cell_type": "markdown",
      "metadata": {
        "id": "s3sfEtZ4-Zd5"
      },
      "source": [
        "### AdaBoost"
      ]
    },
    {
      "cell_type": "code",
      "execution_count": 11,
      "metadata": {
        "id": "b-8KyAXK-Zd5"
      },
      "outputs": [],
      "source": [
        "class MyAdaBoostRegressor(BaseEstimator, RegressorMixin):\n",
        "    def __init__(self, estimator=None, n_estimators=50, random_state=None):\n",
        "        self.estimator = estimator\n",
        "        self.n_estimators = n_estimators\n",
        "        self.random_state = random_state\n",
        "\n",
        "    \n",
        "    def fit(self, X, y):\n",
        "        X, y = check_X_y(X, y)\n",
        "        self.n_features_in_ = X.shape[1]\n",
        "\n",
        "        self.n_estimators = check_scalar(self.n_estimators, \"n_estimators\", int, min_val=1)\n",
        "        self.random_state_ = check_random_state(self.random_state)\n",
        "\n",
        "        self.estimator_ = self.estimator if self.estimator else DecisionTreeRegressor(max_depth=3)\n",
        "        self.estimators_ = []\n",
        "        self.weights_ = []\n",
        "        weight = [1 / len(y)] * len(y)\n",
        "\n",
        "        for _ in range(self.n_estimators):\n",
        "            est = clone(self.estimator_)\n",
        "            _set_random_states(est, self.random_state_)\n",
        "            est.fit(X, y, sample_weight=weight)\n",
        "\n",
        "            predict = est.predict(X)\n",
        "            errors = np.abs(predict - y)\n",
        "\n",
        "            max_error = np.max(errors)\n",
        "            if max_error > 0:\n",
        "                errors /= max_error\n",
        "\n",
        "            error = np.sum(errors * weight)\n",
        "\n",
        "            if not error:\n",
        "                self.estimators_.append(est)\n",
        "                self.weights_.append(1.0)\n",
        "                break\n",
        "                \n",
        "            b = error / (1 - error)\n",
        "\n",
        "            weight *= np.power(b, 1 - errors)\n",
        "            weight /= np.sum(weight)\n",
        "\n",
        "            self.weights_.append(np.log(1 / b))\n",
        "            self.estimators_.append(est)\n",
        "        self.weights_ = np.array(self.weights_)\n",
        "\n",
        "        return self\n",
        "\n",
        "    def predict(self, X):\n",
        "        check_is_fitted(self)\n",
        "        X = check_array(X)\n",
        "\n",
        "        predict = np.array([est.predict(X) for est in self.estimators_]).T\n",
        "        sorted_predict = np.argsort(predict, axis=1)\n",
        "\n",
        "        sorted_weights_cumsum = np.cumsum(self.weights_[sorted_predict], axis=1)\n",
        "        \n",
        "        is_median_or_above = sorted_weights_cumsum >= (0.5 * sorted_weights_cumsum[0][-1])\n",
        "        \n",
        "        median_ids = np.argmax(is_median_or_above, axis=1)\n",
        "        median_ids = sorted_predict[np.arange(len(X)), median_ids]\n",
        "\n",
        "        return predict[np.arange(len(X)), median_ids]\n",
        "\n",
        "check_estimator(MyAdaBoostRegressor())"
      ]
    },
    {
      "cell_type": "markdown",
      "metadata": {
        "id": "maHjvpJR-Zd6"
      },
      "source": [
        "### Обучение"
      ]
    },
    {
      "cell_type": "code",
      "execution_count": 12,
      "metadata": {
        "id": "J109gtxv-Zd6"
      },
      "outputs": [],
      "source": [
        "import optuna\n",
        "import pathlib\n",
        "from sklearn.model_selection import KFold, cross_validate"
      ]
    },
    {
      "cell_type": "code",
      "execution_count": 13,
      "metadata": {
        "id": "GeXK8AhJ-Zd6"
      },
      "outputs": [],
      "source": [
        "def train_and_store(data, target, estimator, params, results_path = pathlib.Path(\"cv_results.csv\")):\n",
        "    optuna.logging.set_verbosity(optuna.logging.WARNING)\n",
        "    study = optuna.create_study(sampler=optuna.samplers.BruteForceSampler(999), direction=\"maximize\")\n",
        "    optuna.logging.set_verbosity(optuna.logging.INFO)\n",
        "\n",
        "    search_model = optuna.integration.OptunaSearchCV(\n",
        "        estimator,\n",
        "        params,\n",
        "        scoring=\"r2\",\n",
        "        n_jobs=3,\n",
        "        n_trials=None,\n",
        "        random_state=42,\n",
        "        study=study,\n",
        "    )\n",
        "\n",
        "    print(\"Start w search\")\n",
        "    results = cross_validate(\n",
        "        search_model,\n",
        "        data,\n",
        "        target,\n",
        "        cv=KFold(shuffle=True, random_state=42),\n",
        "        scoring=[\"r2\", \"neg_mean_absolute_error\"],\n",
        "        n_jobs=4,\n",
        "        return_estimator=True,\n",
        "    )\n",
        "    print(\"End w search\")\n",
        "\n",
        "    for fold_i, estimator_in_fold in enumerate(results[\"estimator\"], start=1):\n",
        "        print(f\"Best params #{fold_i}:\", estimator_in_fold.best_params_)\n",
        "\n",
        "    results = pd.DataFrame(results).rename(\n",
        "        columns={\"estimator\": \"Regressor\", \"fit_time\": \"Fit time, s\", \"score_time\": \"Score time, s\", \"test_r2\": \"R2 on test\"}\n",
        "    )\n",
        "    results[\"Regressor\"] = estimator.__class__.__name__\n",
        "    results[\"MAE on test\"] = -results[\"test_neg_mean_absolute_error\"]\n",
        "    results = results.drop(columns=[\"test_neg_mean_absolute_error\"])\n",
        "    results.to_csv(results_path, mode=\"a\", header=not results_path.exists())"
      ]
    },
    {
      "cell_type": "code",
      "execution_count": 14,
      "metadata": {
        "id": "SFenHDlE-Zd7"
      },
      "outputs": [],
      "source": [
        "df_data = df[['AT', 'AP', 'AH', 'AFDP', 'GTEP', 'TIT', 'TAT', 'CDP', 'CO', 'NOX']]\n",
        "df_target = df[['TEY']]"
      ]
    },
    {
      "cell_type": "markdown",
      "metadata": {
        "id": "9YC8lMez-Zd7"
      },
      "source": [
        "### Bagging"
      ]
    },
    {
      "cell_type": "markdown",
      "metadata": {
        "id": "EGfpn5b7-Zd7"
      },
      "source": [
        "#### MyBaggingRegressor"
      ]
    },
    {
      "cell_type": "code",
      "execution_count": 15,
      "metadata": {
        "colab": {
          "base_uri": "https://localhost:8080/"
        },
        "id": "HELRnZDT-Zd7",
        "outputId": "aa25e84f-18ec-46b6-e75d-e6fd42a92ab0"
      },
      "outputs": [
        {
          "name": "stdout",
          "output_type": "stream",
          "text": [
            "Start w search\n"
          ]
        },
        {
          "name": "stderr",
          "output_type": "stream",
          "text": [
            "<ipython-input-13-cf42d628b72c>:3: ExperimentalWarning: BruteForceSampler is experimental (supported from v3.1.0). The interface can change in the future.\n",
            "  study = optuna.create_study(sampler=optuna.samplers.BruteForceSampler(999), direction=\"maximize\")\n",
            "<ipython-input-13-cf42d628b72c>:6: ExperimentalWarning: OptunaSearchCV is experimental (supported from v0.17.0). The interface can change in the future.\n",
            "  search_model = optuna.integration.OptunaSearchCV(\n",
            "/usr/local/lib/python3.9/dist-packages/sklearn/base.py:90: ExperimentalWarning: OptunaSearchCV is experimental (supported from v0.17.0). The interface can change in the future.\n",
            "  new_object = klass(**new_object_params)\n"
          ]
        },
        {
          "name": "stdout",
          "output_type": "stream",
          "text": [
            "End w search\n",
            "Best params #1: {'n_estimators': 10}\n",
            "Best params #2: {'n_estimators': 10}\n",
            "Best params #3: {'n_estimators': 10}\n",
            "Best params #4: {'n_estimators': 10}\n",
            "Best params #5: {'n_estimators': 10}\n",
            "CPU times: user 1.7 s, sys: 464 ms, total: 2.16 s\n",
            "Wall time: 4min 35s\n"
          ]
        }
      ],
      "source": [
        "%%time\n",
        "\n",
        "train_and_store(\n",
        "    df_data,\n",
        "    df_target,\n",
        "    MyBaggingRegressor(random_state=42),\n",
        "    params={\n",
        "        \"n_estimators\": optuna.distributions.CategoricalDistribution([3, 5, 10]),\n",
        "    },\n",
        "    results_path=pathlib.Path(\"cv_bagging_results.csv\"),\n",
        ")"
      ]
    },
    {
      "cell_type": "markdown",
      "metadata": {
        "id": "YmY2KhZB-Zd8"
      },
      "source": [
        "#### BaggingRegressor"
      ]
    },
    {
      "cell_type": "code",
      "execution_count": 16,
      "metadata": {
        "colab": {
          "base_uri": "https://localhost:8080/"
        },
        "id": "bBZeu2ei-Zd8",
        "outputId": "e954a29e-29d4-4ef1-9924-7de6ed2e5a5d"
      },
      "outputs": [
        {
          "name": "stdout",
          "output_type": "stream",
          "text": [
            "Start w search\n"
          ]
        },
        {
          "name": "stderr",
          "output_type": "stream",
          "text": [
            "<ipython-input-13-cf42d628b72c>:3: ExperimentalWarning: BruteForceSampler is experimental (supported from v3.1.0). The interface can change in the future.\n",
            "  study = optuna.create_study(sampler=optuna.samplers.BruteForceSampler(999), direction=\"maximize\")\n",
            "<ipython-input-13-cf42d628b72c>:6: ExperimentalWarning: OptunaSearchCV is experimental (supported from v0.17.0). The interface can change in the future.\n",
            "  search_model = optuna.integration.OptunaSearchCV(\n",
            "/usr/local/lib/python3.9/dist-packages/sklearn/base.py:90: ExperimentalWarning: OptunaSearchCV is experimental (supported from v0.17.0). The interface can change in the future.\n",
            "  new_object = klass(**new_object_params)\n"
          ]
        },
        {
          "name": "stdout",
          "output_type": "stream",
          "text": [
            "End w search\n",
            "Best params #1: {'n_estimators': 10}\n",
            "Best params #2: {'n_estimators': 10}\n",
            "Best params #3: {'n_estimators': 10}\n",
            "Best params #4: {'n_estimators': 10}\n",
            "Best params #5: {'n_estimators': 10}\n",
            "CPU times: user 1.28 s, sys: 286 ms, total: 1.56 s\n",
            "Wall time: 3min 2s\n"
          ]
        }
      ],
      "source": [
        "%%time\n",
        "\n",
        "from sklearn.ensemble import BaggingRegressor\n",
        "\n",
        "train_and_store(\n",
        "    df_data,\n",
        "    df_target,\n",
        "    BaggingRegressor(random_state=42),\n",
        "    params={\n",
        "        \"n_estimators\": optuna.distributions.CategoricalDistribution([3, 5, 10]),\n",
        "    },\n",
        "    results_path=pathlib.Path(\"cv_bagging_results.csv\"),\n",
        ")"
      ]
    },
    {
      "cell_type": "markdown",
      "metadata": {
        "id": "CtRtYYKz-Zd8"
      },
      "source": [
        "#### RandomForestRegressor"
      ]
    },
    {
      "cell_type": "code",
      "execution_count": 17,
      "metadata": {
        "colab": {
          "base_uri": "https://localhost:8080/"
        },
        "id": "P5wWsE8X-Zd9",
        "outputId": "619d7987-8964-464c-dabb-7fa87803b169"
      },
      "outputs": [
        {
          "name": "stdout",
          "output_type": "stream",
          "text": [
            "Start w search\n"
          ]
        },
        {
          "name": "stderr",
          "output_type": "stream",
          "text": [
            "<ipython-input-13-cf42d628b72c>:3: ExperimentalWarning: BruteForceSampler is experimental (supported from v3.1.0). The interface can change in the future.\n",
            "  study = optuna.create_study(sampler=optuna.samplers.BruteForceSampler(999), direction=\"maximize\")\n",
            "<ipython-input-13-cf42d628b72c>:6: ExperimentalWarning: OptunaSearchCV is experimental (supported from v0.17.0). The interface can change in the future.\n",
            "  search_model = optuna.integration.OptunaSearchCV(\n",
            "/usr/local/lib/python3.9/dist-packages/sklearn/base.py:90: ExperimentalWarning: OptunaSearchCV is experimental (supported from v0.17.0). The interface can change in the future.\n",
            "  new_object = klass(**new_object_params)\n"
          ]
        },
        {
          "name": "stdout",
          "output_type": "stream",
          "text": [
            "End w search\n",
            "Best params #1: {'n_estimators': 10}\n",
            "Best params #2: {'n_estimators': 10}\n",
            "Best params #3: {'n_estimators': 10}\n",
            "Best params #4: {'n_estimators': 10}\n",
            "Best params #5: {'n_estimators': 10}\n",
            "CPU times: user 1.18 s, sys: 151 ms, total: 1.33 s\n",
            "Wall time: 2min 35s\n"
          ]
        }
      ],
      "source": [
        "%%time\n",
        "from sklearn.ensemble import RandomForestRegressor\n",
        "\n",
        "train_and_store(\n",
        "    df_data,\n",
        "    df_target,\n",
        "    RandomForestRegressor(random_state=42),\n",
        "    params={\n",
        "        \"n_estimators\": optuna.distributions.CategoricalDistribution([3, 5, 10]),\n",
        "    },\n",
        "    results_path=pathlib.Path(\"cv_bagging_results.csv\"),\n",
        ")"
      ]
    },
    {
      "cell_type": "markdown",
      "metadata": {
        "id": "59xxIkll-Zd9"
      },
      "source": [
        "#### Результаты"
      ]
    },
    {
      "cell_type": "code",
      "execution_count": 5,
      "metadata": {
        "colab": {
          "base_uri": "https://localhost:8080/",
          "height": 297
        },
        "id": "Q8oBaX-c-Zd9",
        "outputId": "ef006b45-19d4-49bf-d0bf-1d04073a1a72"
      },
      "outputs": [
        {
          "ename": "SyntaxError",
          "evalue": "invalid syntax (2552034760.py, line 2)",
          "output_type": "error",
          "traceback": [
            "\u001b[1;36m  Cell \u001b[1;32mIn[5], line 2\u001b[1;36m\u001b[0m\n\u001b[1;33m    cv_results[\"Regressor\"].apply(lambda x: return x.removesuffix(\"Regressor\"))\u001b[0m\n\u001b[1;37m                                            ^\u001b[0m\n\u001b[1;31mSyntaxError\u001b[0m\u001b[1;31m:\u001b[0m invalid syntax\n"
          ]
        }
      ],
      "source": [
        "cv_results = pd.read_csv(\"cv_bagging_results.csv\")\n",
        "cv_results[\"Regressor\"].apply(lambda x: x.removesuffix(\"Regressor\"))\n",
        "\n",
        "img, axs = plt.subplots(ncols=4, figsize=(15, 4))\n",
        "\n",
        "for y, ax in zip([\"Fit time, s\", \"Score time, s\", \"R2 on test\", \"MAE on test\"], axs.flatten()):\n",
        "    sns.barplot(cv_results[[\"Regressor\", y]], x=\"Regressor\", y=y, errwidth=1, capsize=0.3, ax=ax)\n",
        "    ax.tick_params(axis=\"x\", rotation=90)\n",
        "    ax.set_xlabel(None)\n",
        "\n",
        "img.tight_layout()\n",
        "\n",
        "plt.show()"
      ]
    },
    {
      "cell_type": "markdown",
      "metadata": {
        "id": "UJvfkOWI-Zd9"
      },
      "source": [
        "### Boosting"
      ]
    },
    {
      "cell_type": "markdown",
      "metadata": {
        "id": "RyMLuRpN-Zd-"
      },
      "source": [
        "#### MyAdaBoostRegressor"
      ]
    },
    {
      "cell_type": "code",
      "execution_count": 19,
      "metadata": {
        "colab": {
          "base_uri": "https://localhost:8080/"
        },
        "id": "dv7-jkqX-Zd-",
        "outputId": "e94aac65-fa72-4765-932a-45292301c8b6"
      },
      "outputs": [
        {
          "name": "stderr",
          "output_type": "stream",
          "text": [
            "<ipython-input-13-cf42d628b72c>:3: ExperimentalWarning: BruteForceSampler is experimental (supported from v3.1.0). The interface can change in the future.\n",
            "  study = optuna.create_study(sampler=optuna.samplers.BruteForceSampler(999), direction=\"maximize\")\n",
            "<ipython-input-13-cf42d628b72c>:6: ExperimentalWarning: OptunaSearchCV is experimental (supported from v0.17.0). The interface can change in the future.\n",
            "  search_model = optuna.integration.OptunaSearchCV(\n",
            "/usr/local/lib/python3.9/dist-packages/sklearn/base.py:90: ExperimentalWarning: OptunaSearchCV is experimental (supported from v0.17.0). The interface can change in the future.\n",
            "  new_object = klass(**new_object_params)\n"
          ]
        },
        {
          "name": "stdout",
          "output_type": "stream",
          "text": [
            "Start w search\n",
            "End w search\n",
            "Best params #1: {'n_estimators': 10}\n",
            "Best params #2: {'n_estimators': 10}\n",
            "Best params #3: {'n_estimators': 10}\n",
            "Best params #4: {'n_estimators': 10}\n",
            "Best params #5: {'n_estimators': 10}\n",
            "CPU times: user 337 ms, sys: 40.8 ms, total: 378 ms\n",
            "Wall time: 47.3 s\n"
          ]
        }
      ],
      "source": [
        "%%time\n",
        "\n",
        "train_and_store(\n",
        "    df_data,\n",
        "    df_target,\n",
        "    MyAdaBoostRegressor(random_state=42),\n",
        "    params={\n",
        "        \"n_estimators\": optuna.distributions.CategoricalDistribution([3, 5, 10]),\n",
        "    },\n",
        "    results_path=pathlib.Path(\"cv_boosting_results.csv\"),\n",
        ")"
      ]
    },
    {
      "cell_type": "markdown",
      "metadata": {
        "id": "Ek7-ptEc-Zd-"
      },
      "source": [
        "#### AdaBoostRegressor"
      ]
    },
    {
      "cell_type": "code",
      "execution_count": 20,
      "metadata": {
        "colab": {
          "base_uri": "https://localhost:8080/"
        },
        "id": "3QbUA0Ti-Zd-",
        "outputId": "c5a99594-cb28-4c7e-8db0-235021150354"
      },
      "outputs": [
        {
          "name": "stdout",
          "output_type": "stream",
          "text": [
            "Start w search\n"
          ]
        },
        {
          "name": "stderr",
          "output_type": "stream",
          "text": [
            "<ipython-input-13-cf42d628b72c>:3: ExperimentalWarning: BruteForceSampler is experimental (supported from v3.1.0). The interface can change in the future.\n",
            "  study = optuna.create_study(sampler=optuna.samplers.BruteForceSampler(999), direction=\"maximize\")\n",
            "<ipython-input-13-cf42d628b72c>:6: ExperimentalWarning: OptunaSearchCV is experimental (supported from v0.17.0). The interface can change in the future.\n",
            "  search_model = optuna.integration.OptunaSearchCV(\n",
            "/usr/local/lib/python3.9/dist-packages/sklearn/base.py:90: ExperimentalWarning: OptunaSearchCV is experimental (supported from v0.17.0). The interface can change in the future.\n",
            "  new_object = klass(**new_object_params)\n"
          ]
        },
        {
          "name": "stdout",
          "output_type": "stream",
          "text": [
            "End w search\n",
            "Best params #1: {'n_estimators': 10, 'learning_rate': 2}\n",
            "Best params #2: {'n_estimators': 10, 'learning_rate': 2}\n",
            "Best params #3: {'n_estimators': 10, 'learning_rate': 1}\n",
            "Best params #4: {'n_estimators': 10, 'learning_rate': 2}\n",
            "Best params #5: {'n_estimators': 10, 'learning_rate': 2}\n",
            "CPU times: user 680 ms, sys: 82.6 ms, total: 763 ms\n",
            "Wall time: 1min 57s\n"
          ]
        }
      ],
      "source": [
        "%%time\n",
        "from sklearn.ensemble import AdaBoostRegressor\n",
        "\n",
        "train_and_store(\n",
        "    df_data,\n",
        "    df_target,\n",
        "    AdaBoostRegressor(random_state=42),\n",
        "    params={\n",
        "        \"n_estimators\": optuna.distributions.CategoricalDistribution([3, 5, 10]),\n",
        "        \"learning_rate\": optuna.distributions.CategoricalDistribution([0.5, 1, 2]),\n",
        "    },\n",
        "    results_path=pathlib.Path(\"cv_boosting_results.csv\"),\n",
        ")"
      ]
    },
    {
      "cell_type": "markdown",
      "metadata": {
        "id": "q0JnDMV9-Zd_"
      },
      "source": [
        "#### GradientBoostingRegressor"
      ]
    },
    {
      "cell_type": "code",
      "execution_count": 21,
      "metadata": {
        "colab": {
          "base_uri": "https://localhost:8080/"
        },
        "id": "KugzwX9l-Zd_",
        "outputId": "35a37908-5d60-4863-b9b8-9afa2c5eb2d9"
      },
      "outputs": [
        {
          "name": "stdout",
          "output_type": "stream",
          "text": [
            "Start w search\n"
          ]
        },
        {
          "name": "stderr",
          "output_type": "stream",
          "text": [
            "<ipython-input-13-cf42d628b72c>:3: ExperimentalWarning: BruteForceSampler is experimental (supported from v3.1.0). The interface can change in the future.\n",
            "  study = optuna.create_study(sampler=optuna.samplers.BruteForceSampler(999), direction=\"maximize\")\n",
            "<ipython-input-13-cf42d628b72c>:6: ExperimentalWarning: OptunaSearchCV is experimental (supported from v0.17.0). The interface can change in the future.\n",
            "  search_model = optuna.integration.OptunaSearchCV(\n",
            "/usr/local/lib/python3.9/dist-packages/sklearn/base.py:90: ExperimentalWarning: OptunaSearchCV is experimental (supported from v0.17.0). The interface can change in the future.\n",
            "  new_object = klass(**new_object_params)\n"
          ]
        },
        {
          "name": "stdout",
          "output_type": "stream",
          "text": [
            "End w search\n",
            "Best params #1: {'n_estimators': 10, 'learning_rate': 0.2, 'max_leaf_nodes': 1000}\n",
            "Best params #2: {'n_estimators': 10, 'learning_rate': 0.2, 'max_leaf_nodes': 1000}\n",
            "Best params #3: {'n_estimators': 10, 'learning_rate': 0.2, 'max_leaf_nodes': 1000}\n",
            "Best params #4: {'n_estimators': 10, 'learning_rate': 0.2, 'max_leaf_nodes': 1000}\n",
            "Best params #5: {'n_estimators': 10, 'learning_rate': 0.2, 'max_leaf_nodes': 1000}\n",
            "CPU times: user 1.78 s, sys: 232 ms, total: 2.01 s\n",
            "Wall time: 5min 34s\n"
          ]
        }
      ],
      "source": [
        "%%time\n",
        "\n",
        "from sklearn.ensemble import GradientBoostingRegressor\n",
        "\n",
        "train_and_store(\n",
        "    df_data,\n",
        "    df_target,\n",
        "    GradientBoostingRegressor(random_state=42),\n",
        "    params={\n",
        "        \"n_estimators\": optuna.distributions.CategoricalDistribution([3, 5, 10]),\n",
        "        \"learning_rate\": optuna.distributions.CategoricalDistribution([0.05, 0.1, 0.2]),\n",
        "        \"max_leaf_nodes\": optuna.distributions.CategoricalDistribution([10, 1000, None]),\n",
        "    },\n",
        "    results_path=pathlib.Path(\"cv_boosting_results.csv\"),\n",
        ")"
      ]
    },
    {
      "cell_type": "markdown",
      "metadata": {
        "id": "8AXdUgRH-Zd_"
      },
      "source": [
        "#### HistGradientBoostingRegressor"
      ]
    },
    {
      "cell_type": "code",
      "execution_count": 22,
      "metadata": {
        "colab": {
          "base_uri": "https://localhost:8080/"
        },
        "id": "9FStbleu-Zd_",
        "outputId": "89baa0ad-dfa8-449d-e388-a95933772572"
      },
      "outputs": [
        {
          "name": "stdout",
          "output_type": "stream",
          "text": [
            "Start w search\n"
          ]
        },
        {
          "name": "stderr",
          "output_type": "stream",
          "text": [
            "<ipython-input-13-cf42d628b72c>:3: ExperimentalWarning: BruteForceSampler is experimental (supported from v3.1.0). The interface can change in the future.\n",
            "  study = optuna.create_study(sampler=optuna.samplers.BruteForceSampler(999), direction=\"maximize\")\n",
            "<ipython-input-13-cf42d628b72c>:6: ExperimentalWarning: OptunaSearchCV is experimental (supported from v0.17.0). The interface can change in the future.\n",
            "  search_model = optuna.integration.OptunaSearchCV(\n",
            "/usr/local/lib/python3.9/dist-packages/sklearn/base.py:90: ExperimentalWarning: OptunaSearchCV is experimental (supported from v0.17.0). The interface can change in the future.\n",
            "  new_object = klass(**new_object_params)\n"
          ]
        },
        {
          "name": "stdout",
          "output_type": "stream",
          "text": [
            "End w search\n",
            "Best params #1: {'learning_rate': 0.1, 'max_leaf_nodes': None}\n",
            "Best params #2: {'learning_rate': 0.1, 'max_leaf_nodes': None}\n",
            "Best params #3: {'learning_rate': 0.1, 'max_leaf_nodes': None}\n",
            "Best params #4: {'learning_rate': 0.1, 'max_leaf_nodes': None}\n",
            "Best params #5: {'learning_rate': 0.1, 'max_leaf_nodes': None}\n",
            "CPU times: user 4.65 s, sys: 560 ms, total: 5.21 s\n",
            "Wall time: 15min 6s\n"
          ]
        }
      ],
      "source": [
        "%%time\n",
        "\n",
        "from sklearn.ensemble import HistGradientBoostingRegressor\n",
        "\n",
        "train_and_store(\n",
        "    df_data,\n",
        "    df_target,\n",
        "    HistGradientBoostingRegressor(random_state=42, early_stopping=True),\n",
        "    params={\n",
        "        \"learning_rate\": optuna.distributions.CategoricalDistribution([0.5, 0.1, 0.2]),\n",
        "        \"max_leaf_nodes\": optuna.distributions.CategoricalDistribution([15, 31, 62, None]),\n",
        "    },\n",
        "    results_path=pathlib.Path(\"cv_boosting_results.csv\"),\n",
        ")"
      ]
    },
    {
      "cell_type": "markdown",
      "metadata": {
        "id": "lAW6g-y6-ZeA"
      },
      "source": [
        "#### XGBoost"
      ]
    },
    {
      "cell_type": "code",
      "execution_count": 23,
      "metadata": {
        "colab": {
          "base_uri": "https://localhost:8080/"
        },
        "id": "937cdysy-ZeA",
        "outputId": "74c441a8-8b1c-4559-c0a0-91236d10ef00"
      },
      "outputs": [
        {
          "name": "stderr",
          "output_type": "stream",
          "text": [
            "<ipython-input-13-cf42d628b72c>:3: ExperimentalWarning: BruteForceSampler is experimental (supported from v3.1.0). The interface can change in the future.\n",
            "  study = optuna.create_study(sampler=optuna.samplers.BruteForceSampler(999), direction=\"maximize\")\n",
            "<ipython-input-13-cf42d628b72c>:6: ExperimentalWarning: OptunaSearchCV is experimental (supported from v0.17.0). The interface can change in the future.\n",
            "  search_model = optuna.integration.OptunaSearchCV(\n",
            "/usr/local/lib/python3.9/dist-packages/sklearn/base.py:90: ExperimentalWarning: OptunaSearchCV is experimental (supported from v0.17.0). The interface can change in the future.\n",
            "  new_object = klass(**new_object_params)\n"
          ]
        },
        {
          "name": "stdout",
          "output_type": "stream",
          "text": [
            "Start w search\n",
            "End w search\n",
            "Best params #1: {'tree_method': 'exact', 'n_estimators': 10, 'learning_rate': 0.5, 'max_leaves': 0}\n",
            "Best params #2: {'tree_method': 'exact', 'n_estimators': 10, 'learning_rate': 0.5, 'max_leaves': 0}\n",
            "Best params #3: {'tree_method': 'exact', 'n_estimators': 10, 'learning_rate': 0.5, 'max_leaves': 0}\n",
            "Best params #4: {'tree_method': 'exact', 'n_estimators': 10, 'learning_rate': 0.5, 'max_leaves': 0}\n",
            "Best params #5: {'tree_method': 'exact', 'n_estimators': 10, 'learning_rate': 0.5, 'max_leaves': 0}\n",
            "CPU times: user 1.63 s, sys: 195 ms, total: 1.83 s\n",
            "Wall time: 4min 51s\n"
          ]
        }
      ],
      "source": [
        "%%time\n",
        "\n",
        "from xgboost import XGBRegressor\n",
        "\n",
        "train_and_store(\n",
        "    df_data,\n",
        "    df_target,\n",
        "    XGBRegressor(random_state=42, n_jobs=2),\n",
        "    params={\n",
        "        \"tree_method\": optuna.distributions.CategoricalDistribution([\"exact\", \"approx\", \"hist\"]),\n",
        "        \"n_estimators\": optuna.distributions.CategoricalDistribution([3, 5, 10]),\n",
        "        \"learning_rate\": optuna.distributions.CategoricalDistribution([0.1, 0.3, 0.5]),\n",
        "        \"max_leaves\": optuna.distributions.CategoricalDistribution([0, 15, 31]),\n",
        "    },\n",
        "    results_path=pathlib.Path(\"cv_boosting_results.csv\"),\n",
        ")"
      ]
    },
    {
      "cell_type": "markdown",
      "metadata": {
        "id": "CrHnphPw-ZeA"
      },
      "source": [
        "#### LightGBM"
      ]
    },
    {
      "cell_type": "code",
      "execution_count": 24,
      "metadata": {
        "colab": {
          "base_uri": "https://localhost:8080/"
        },
        "id": "C_sggrZQ-ZeA",
        "outputId": "9ad6cfe3-3530-451c-93d2-2065520b81ea"
      },
      "outputs": [
        {
          "name": "stderr",
          "output_type": "stream",
          "text": [
            "<ipython-input-13-cf42d628b72c>:3: ExperimentalWarning: BruteForceSampler is experimental (supported from v3.1.0). The interface can change in the future.\n",
            "  study = optuna.create_study(sampler=optuna.samplers.BruteForceSampler(999), direction=\"maximize\")\n",
            "<ipython-input-13-cf42d628b72c>:6: ExperimentalWarning: OptunaSearchCV is experimental (supported from v0.17.0). The interface can change in the future.\n",
            "  search_model = optuna.integration.OptunaSearchCV(\n",
            "/usr/local/lib/python3.9/dist-packages/sklearn/base.py:90: ExperimentalWarning: OptunaSearchCV is experimental (supported from v0.17.0). The interface can change in the future.\n",
            "  new_object = klass(**new_object_params)\n"
          ]
        },
        {
          "name": "stdout",
          "output_type": "stream",
          "text": [
            "Start w search\n",
            "End w search\n",
            "Best params #1: {'n_estimators': 10, 'learning_rate': 0.3, 'num_leaves': 62}\n",
            "Best params #2: {'n_estimators': 10, 'learning_rate': 0.3, 'num_leaves': 62}\n",
            "Best params #3: {'n_estimators': 10, 'learning_rate': 0.3, 'num_leaves': 62}\n",
            "Best params #4: {'n_estimators': 10, 'learning_rate': 0.3, 'num_leaves': 62}\n",
            "Best params #5: {'n_estimators': 10, 'learning_rate': 0.3, 'num_leaves': 62}\n",
            "CPU times: user 1.39 s, sys: 121 ms, total: 1.51 s\n",
            "Wall time: 1min 2s\n"
          ]
        }
      ],
      "source": [
        "%%time\n",
        "\n",
        "from lightgbm import LGBMRegressor\n",
        "\n",
        "train_and_store(\n",
        "    df_data,\n",
        "    df_target,\n",
        "    LGBMRegressor(random_state=42, n_jobs=2),\n",
        "    params={\n",
        "        \"n_estimators\": optuna.distributions.CategoricalDistribution([3, 5, 10]),\n",
        "        \"learning_rate\": optuna.distributions.CategoricalDistribution([0.03, 0.1, 0.3]),\n",
        "        \"num_leaves\": optuna.distributions.CategoricalDistribution([15, 31, 62]),\n",
        "    },\n",
        "    results_path=pathlib.Path(\"cv_boosting_results.csv\"),\n",
        ")"
      ]
    },
    {
      "cell_type": "markdown",
      "metadata": {
        "id": "Nnr7mLwm-ZeB"
      },
      "source": [
        "#### CatBoost"
      ]
    },
    {
      "cell_type": "code",
      "execution_count": 28,
      "metadata": {
        "colab": {
          "base_uri": "https://localhost:8080/"
        },
        "id": "hpIxIUlF-ZeB",
        "outputId": "2ef53c11-c366-4572-e8b7-1650466cbfb2"
      },
      "outputs": [
        {
          "name": "stderr",
          "output_type": "stream",
          "text": [
            "<ipython-input-13-cf42d628b72c>:3: ExperimentalWarning: BruteForceSampler is experimental (supported from v3.1.0). The interface can change in the future.\n",
            "  study = optuna.create_study(sampler=optuna.samplers.BruteForceSampler(999), direction=\"maximize\")\n",
            "<ipython-input-13-cf42d628b72c>:6: ExperimentalWarning: OptunaSearchCV is experimental (supported from v0.17.0). The interface can change in the future.\n",
            "  search_model = optuna.integration.OptunaSearchCV(\n",
            "/usr/local/lib/python3.9/dist-packages/sklearn/base.py:90: ExperimentalWarning: OptunaSearchCV is experimental (supported from v0.17.0). The interface can change in the future.\n",
            "  new_object = klass(**new_object_params)\n"
          ]
        },
        {
          "name": "stdout",
          "output_type": "stream",
          "text": [
            "Start w search\n",
            "End w search\n",
            "Best params #1: {'n_estimators': 10}\n",
            "Best params #2: {'n_estimators': 10}\n",
            "Best params #3: {'n_estimators': 10}\n",
            "Best params #4: {'n_estimators': 10}\n",
            "Best params #5: {'n_estimators': 10}\n",
            "CPU times: user 155 ms, sys: 14.1 ms, total: 169 ms\n",
            "Wall time: 14 s\n"
          ]
        }
      ],
      "source": [
        "%%time\n",
        "\n",
        "from catboost import CatBoostRegressor\n",
        "\n",
        "train_and_store(\n",
        "    df_data,\n",
        "    df_target,\n",
        "    CatBoostRegressor(random_state=42, thread_count=2),\n",
        "    params={\n",
        "        \"n_estimators\": optuna.distributions.CategoricalDistribution([3, 5, 10]),\n",
        "    },\n",
        "    results_path=pathlib.Path(\"cv_boosting_results.csv\"),\n",
        ")"
      ]
    },
    {
      "cell_type": "markdown",
      "metadata": {
        "id": "-omfPyg3-gF5"
      },
      "source": [
        "#### Результаты"
      ]
    },
    {
      "cell_type": "code",
      "execution_count": 29,
      "metadata": {
        "colab": {
          "base_uri": "https://localhost:8080/",
          "height": 297
        },
        "id": "s6HgQ5h1-jQx",
        "outputId": "cd93172c-89be-422e-d849-3c9de057b537"
      },
      "outputs": [
        {
          "data": {
            "image/png": "[encoded data removed]",
            "text/plain": [
              "<Figure size 1080x288 with 4 Axes>"
            ]
          },
          "metadata": {
            "needs_background": "light"
          },
          "output_type": "display_data"
        }
      ],
      "source": [
        "cv_results = pd.read_csv(\"cv_boosting_results.csv\")\n",
        "cv_results[\"Regressor\"].apply(lambda x: x.removesuffix(\"Regressor\"))\n",
        "\n",
        "img, axs = plt.subplots(ncols=4, figsize=(15, 4))\n",
        "\n",
        "for y, ax in zip([\"Fit time, s\", \"Score time, s\", \"R2 on test\", \"MAE on test\"], axs.flatten()):\n",
        "    sns.barplot(cv_results[[\"Regressor\", y]], x=\"Regressor\", y=y, errwidth=1, capsize=0.3, ax=ax)\n",
        "    ax.tick_params(axis=\"x\", rotation=90)\n",
        "    ax.set_xlabel(None)\n",
        "\n",
        "img.tight_layout()\n",
        "\n",
        "plt.show()"
      ]
    },
    {
      "cell_type": "markdown",
      "metadata": {
        "id": "2EdiCG88-lop"
      },
      "source": [
        "### Общие результаты"
      ]
    },
    {
      "cell_type": "code",
      "execution_count": 31,
      "metadata": {
        "colab": {
          "base_uri": "https://localhost:8080/",
          "height": 297
        },
        "id": "sEslWrx1-mz6",
        "outputId": "d2ba84e1-306f-464a-ba6e-1d6dc0998edc"
      },
      "outputs": [
        {
          "data": {
            "image/png": "[encoded data removed]",
            "text/plain": [
              "<Figure size 1080x288 with 4 Axes>"
            ]
          },
          "metadata": {
            "needs_background": "light"
          },
          "output_type": "display_data"
        }
      ],
      "source": [
        "cv_results = pd.concat([pd.read_csv(\"cv_bagging_results.csv\"), pd.read_csv(\"cv_boosting_results.csv\")])\n",
        "cv_results[\"Regressor\"].apply(lambda x: x.removesuffix(\"Regressor\"))\n",
        "\n",
        "img, axs = plt.subplots(ncols=4, figsize=(15, 4))\n",
        "\n",
        "for y, ax in zip([\"Fit time, s\", \"Score time, s\", \"R2 on test\", \"MAE on test\"], axs.flatten()):\n",
        "    sns.barplot(cv_results[[\"Regressor\", y]], x=\"Regressor\", y=y, errwidth=1, capsize=0.3, ax=ax)\n",
        "    ax.tick_params(axis=\"x\", rotation=90)\n",
        "    ax.set_xlabel(None)\n",
        "\n",
        "img.tight_layout()\n",
        "\n",
        "plt.show()"
      ]
    },
    {
      "cell_type": "markdown",
      "metadata": {
        "id": "Uhihaq1Y-ZeC"
      },
      "source": []
    }
  ],
  "metadata": {
    "colab": {
      "provenance": []
    },
    "kernelspec": {
      "display_name": "Python 3",
      "language": "python",
      "name": "python3"
    },
    "language_info": {
      "codemirror_mode": {
        "name": "ipython",
        "version": 3
      },
      "file_extension": ".py",
      "mimetype": "text/x-python",
      "name": "python",
      "nbconvert_exporter": "python",
      "pygments_lexer": "ipython3",
      "version": "3.10.6"
    },
    "orig_nbformat": 4
  },
  "nbformat": 4,
  "nbformat_minor": 0
}
